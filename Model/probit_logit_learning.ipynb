{
 "cells": [
  {
   "cell_type": "markdown",
   "metadata": {},
   "source": [
    "# Testing and learning Probit/ Logit"
   ]
  },
  {
   "cell_type": "markdown",
   "metadata": {},
   "source": [
    "Importing data and necessary library"
   ]
  },
  {
   "cell_type": "code",
   "execution_count": 76,
   "metadata": {},
   "outputs": [],
   "source": [
    "import pandas as pd\n",
    "import numpy as np\n",
    "from sklearn import preprocessing\n",
    "import matplotlib.pyplot as plt \n",
    "plt.rc(\"font\", size=14)\n",
    "from sklearn.model_selection import train_test_split\n",
    "import seaborn as sns\n",
    "sns.set(style='white')\n",
    "sns.set(style=\"whitegrid\", color_codes=True)\n",
    "\n",
    "import pandas as pd\n",
    "from sklearn.impute import KNNImputer\n",
    "\n",
    "import pickle\n",
    "from tqdm import tqdm\n",
    "\n",
    "import zipfile\n",
    "import io\n",
    "\n",
    "#For reading Zip file\n",
    "#Uncomment if you dont have th file yet\n",
    "# zip_file_path = 'Data/College_Graduates.zip'\n",
    "# sas_file_name = 'pcg21Public/epcg21.sas7bdat'\n",
    "\n",
    "# # Open the ZIP file\n",
    "# with zipfile.ZipFile(zip_file_path, 'r') as z:\n",
    "#     # Extract the SAS file into memory\n",
    "#     with z.open(sas_file_name) as sas_file:\n",
    "#         # Read the SAS file from memory\n",
    "#         df = pd.read_sas(io.BytesIO(sas_file.read()), format='sas7bdat')\n",
    "\n",
    "\n"
   ]
  },
  {
   "cell_type": "markdown",
   "metadata": {},
   "source": [
    "USE PICKLE TO LOAD FILE WITHOUT RE-READING THEM. ALSO help with re-read variables \n",
    "Load data without reread the data. "
   ]
  },
  {
   "cell_type": "code",
   "execution_count": 100,
   "metadata": {},
   "outputs": [],
   "source": [
    "# ##pickle file to save:\n",
    "# with open('college_data.pkl', 'wb') as file:\n",
    "#     pickle.dump(df, file)\n",
    "# Load the DataFrame from the pickle file\n",
    "with open('college_data.pkl', 'rb') as file:\n",
    "    df = pickle.load(file)"
   ]
  },
  {
   "cell_type": "markdown",
   "metadata": {},
   "source": [
    "Check the data. College     # column's data type is bytes"
   ]
  },
  {
   "cell_type": "code",
   "execution_count": 101,
   "metadata": {},
   "outputs": [],
   "source": [
    "for column in df.columns:\n",
    "    # Check if the column's data type is bytes\n",
    "    if df[column].dtype == 'O':  # 'O' stands for 'object', which can include bytes\n",
    "        try:\n",
    "            # Attempt to decode bytes to string\n",
    "            df[column] = df[column].str.decode('utf-8')\n",
    "        except AttributeError:\n",
    "            print(\"fail\\n\")\n",
    "            pass\n"
   ]
  },
  {
   "cell_type": "markdown",
   "metadata": {},
   "source": [
    "Change logical skip and survey exclusion to nan, Gender column to fit, logical skip to nan"
   ]
  },
  {
   "cell_type": "code",
   "execution_count": 102,
   "metadata": {},
   "outputs": [],
   "source": [
    "\n",
    "# Define the specific values to count\n",
    "\n",
    "for column in df.columns:\n",
    "    # Attempt to convert to numeric, ignore errors to keep other strings\n",
    "    df[column] = pd.to_numeric(df[column], errors='ignore')\n",
    "\n",
    "df = df.rename(columns={'GENDER': 'GENDER_male'})\n",
    "df[\"GENDER_male\"] = df[\"GENDER_male\"].replace('M', \"Y\").replace('F', \"N\")\n",
    "\n",
    "logic_skip_values = [np.nan, \"X\", \"M\", \"L\", \"E\", 98, 998, 9998, 999989, 999999,999999, 99998]\n",
    "df = df.replace(logic_skip_values, np.nan).drop('COHORT', axis=1)\n",
    "\n"
   ]
  },
  {
   "cell_type": "markdown",
   "metadata": {},
   "source": [
    "Preparing Data For analysis:\n",
    "1. Change value to booleans\n",
    "2. Change categorical values to dummy"
   ]
  },
  {
   "cell_type": "markdown",
   "metadata": {},
   "source": [
    "Filter most missing value to eliminate var with amount missing larger than 25%. Let's check on labor force."
   ]
  },
  {
   "cell_type": "code",
   "execution_count": 103,
   "metadata": {},
   "outputs": [],
   "source": [
    "#Boolean\n",
    "df = df.replace('L', np.nan).replace('N', 0).replace('Y', 1)\n",
    "df['LFSTAT'] = df['LFSTAT'].replace({3: 0, 2: 0})\n",
    "\n",
    "\n",
    "# Calculate the percentage of missing values for each column\n",
    "missing_percentages = df.isnull().mean() * 100\n",
    "\n",
    "# If data missing more than 25% then omit the variable\n",
    "columns_to_keep = missing_percentages[missing_percentages <= 25].index\n",
    "df_filtered = df[columns_to_keep]\n",
    "\n",
    "numerical_cols = ['LFSTAT','AGE', 'AGEGR', 'BAACYR', 'BAAYR3', 'BAAYR5', 'BAYR', 'BIRYR', 'BSDGN', 'CH1218', 'CH19', 'CH25', 'CH6', 'CH611', 'CHU2', 'CLICYR', 'D23YR', 'D25YR', 'D2AYR', 'D2YR', 'D33YR', 'D35YR', 'D3AYR', 'D3YR', 'D43YR', 'D45YR', 'D4AYR', 'D4YR', 'D53YR', 'D55YR', 'D5AYR', 'D5YR', 'DGRYR', 'EARN', 'FNUSYR6', 'HDACY3', 'HDACYR', 'HDAY5', 'HSYR', 'LWYR', 'MR3YR', 'MR5YR', 'MRDACYR', 'MRYR', 'PERMVYR', 'SALARY', 'STRTYR']\n"
   ]
  },
  {
   "cell_type": "markdown",
   "metadata": {},
   "source": [
    "THIS IS FOR IMPUTING DATA - FILLING MISSING DATA - take lots of time\n",
    "See the data Disparity. Using combination of KNN and most frequent imputation method.\n",
    "\n",
    "1. Most Frequent with large disparity of most frequent value (>70%)\n",
    "2. KNN for rest of the value"
   ]
  },
  {
   "cell_type": "code",
   "execution_count": 85,
   "metadata": {},
   "outputs": [
    {
     "name": "stderr",
     "output_type": "stream",
     "text": [
      "KNN Imputation:   0%|          | 0/106279 [06:42<?, ?it/s]\n",
      "KNN Imputation:   0%|          | 0/106279 [07:14<?, ?it/s]\n",
      "C:\\Users\\HoangLe.HoangLeLaptop\\AppData\\Local\\Temp\\ipykernel_24772\\3631266363.py:9: SettingWithCopyWarning: \n",
      "A value is trying to be set on a copy of a slice from a DataFrame.\n",
      "Try using .loc[row_indexer,col_indexer] = value instead\n",
      "\n",
      "See the caveats in the documentation: https://pandas.pydata.org/pandas-docs/stable/user_guide/indexing.html#returning-a-view-versus-a-copy\n",
      "  df_filtered[dominant_columns] = df_filtered[dominant_columns].fillna(modes)\n",
      "C:\\Users\\HoangLe.HoangLeLaptop\\AppData\\Local\\Temp\\ipykernel_24772\\3631266363.py:17: SettingWithCopyWarning: \n",
      "A value is trying to be set on a copy of a slice from a DataFrame.\n",
      "Try using .loc[row_indexer,col_indexer] = value instead\n",
      "\n",
      "See the caveats in the documentation: https://pandas.pydata.org/pandas-docs/stable/user_guide/indexing.html#returning-a-view-versus-a-copy\n",
      "  df_filtered[knn_columns] = knn_imputer.fit_transform(df_filtered[knn_columns])\n"
     ]
    }
   ],
   "source": [
    "from sklearn.impute import KNNImputer\n",
    "import pandas as pd\n",
    "\n",
    "# Calculate modes for all columns once\n",
    "modes = df_filtered.mode().iloc[0]\n",
    "\n",
    "# Impute most frequent for columns with a dominant category\n",
    "dominant_columns = df_filtered.columns[df_filtered.apply(lambda col: (col.value_counts(normalize=True, dropna=False).iloc[0] > 0.7))]\n",
    "df_filtered[dominant_columns] = df_filtered[dominant_columns].fillna(modes)\n",
    "\n",
    "# Determine columns for KNN imputation\n",
    "knn_columns = [col for col in df_filtered.columns if col not in numerical_cols and col not in dominant_columns]\n",
    "\n",
    "if knn_columns:\n",
    "    knn_imputer = KNNImputer()\n",
    "    # Apply KNN imputation directly without looping through columns\n",
    "    df_filtered[knn_columns] = knn_imputer.fit_transform(df_filtered[knn_columns])\n",
    "\n",
    "# df_filtered now contains the imputed data\n"
   ]
  },
  {
   "cell_type": "markdown",
   "metadata": {},
   "source": [
    "Final Imputation (the remaining numerical variables)"
   ]
  },
  {
   "cell_type": "code",
   "execution_count": null,
   "metadata": {},
   "outputs": [
    {
     "data": {
      "text/html": [
       "<div>\n",
       "<style scoped>\n",
       "    .dataframe tbody tr th:only-of-type {\n",
       "        vertical-align: middle;\n",
       "    }\n",
       "\n",
       "    .dataframe tbody tr th {\n",
       "        vertical-align: top;\n",
       "    }\n",
       "\n",
       "    .dataframe thead th {\n",
       "        text-align: right;\n",
       "    }\n",
       "</style>\n",
       "<table border=\"1\" class=\"dataframe\">\n",
       "  <thead>\n",
       "    <tr style=\"text-align: right;\">\n",
       "      <th></th>\n",
       "      <th>ACSIN</th>\n",
       "      <th>ACTCAP</th>\n",
       "      <th>ACTDED</th>\n",
       "      <th>ACTMGT</th>\n",
       "      <th>ACTRD</th>\n",
       "      <th>ACTRD2</th>\n",
       "      <th>ACTRDT</th>\n",
       "      <th>ACTRES</th>\n",
       "      <th>ACTTCH</th>\n",
       "      <th>AGE</th>\n",
       "      <th>...</th>\n",
       "      <th>BARGN_55</th>\n",
       "      <th>CTZUS_1</th>\n",
       "      <th>CTZUS_2</th>\n",
       "      <th>CTZUS_3</th>\n",
       "      <th>FACBEN_1</th>\n",
       "      <th>FACBEN_2</th>\n",
       "      <th>FACBEN_3</th>\n",
       "      <th>FACBEN_4</th>\n",
       "      <th>WKSYR_1</th>\n",
       "      <th>WKSYR_2</th>\n",
       "    </tr>\n",
       "  </thead>\n",
       "  <tbody>\n",
       "    <tr>\n",
       "      <th>0</th>\n",
       "      <td>0.0</td>\n",
       "      <td>0.0</td>\n",
       "      <td>0.0</td>\n",
       "      <td>0.0</td>\n",
       "      <td>0.0</td>\n",
       "      <td>0.0</td>\n",
       "      <td>0.0</td>\n",
       "      <td>0.0</td>\n",
       "      <td>0.0</td>\n",
       "      <td>40.0</td>\n",
       "      <td>...</td>\n",
       "      <td>0.0</td>\n",
       "      <td>1.0</td>\n",
       "      <td>0.0</td>\n",
       "      <td>0.0</td>\n",
       "      <td>1.0</td>\n",
       "      <td>0.0</td>\n",
       "      <td>0.0</td>\n",
       "      <td>0.0</td>\n",
       "      <td>1.0</td>\n",
       "      <td>0.0</td>\n",
       "    </tr>\n",
       "    <tr>\n",
       "      <th>1</th>\n",
       "      <td>0.0</td>\n",
       "      <td>0.0</td>\n",
       "      <td>0.0</td>\n",
       "      <td>1.0</td>\n",
       "      <td>0.0</td>\n",
       "      <td>0.0</td>\n",
       "      <td>0.0</td>\n",
       "      <td>0.0</td>\n",
       "      <td>0.0</td>\n",
       "      <td>40.0</td>\n",
       "      <td>...</td>\n",
       "      <td>0.0</td>\n",
       "      <td>1.0</td>\n",
       "      <td>0.0</td>\n",
       "      <td>0.0</td>\n",
       "      <td>1.0</td>\n",
       "      <td>0.0</td>\n",
       "      <td>0.0</td>\n",
       "      <td>0.0</td>\n",
       "      <td>1.0</td>\n",
       "      <td>0.0</td>\n",
       "    </tr>\n",
       "    <tr>\n",
       "      <th>2</th>\n",
       "      <td>0.0</td>\n",
       "      <td>0.0</td>\n",
       "      <td>1.0</td>\n",
       "      <td>1.0</td>\n",
       "      <td>1.0</td>\n",
       "      <td>1.0</td>\n",
       "      <td>1.0</td>\n",
       "      <td>0.0</td>\n",
       "      <td>0.0</td>\n",
       "      <td>34.0</td>\n",
       "      <td>...</td>\n",
       "      <td>0.0</td>\n",
       "      <td>1.0</td>\n",
       "      <td>0.0</td>\n",
       "      <td>0.0</td>\n",
       "      <td>1.0</td>\n",
       "      <td>0.0</td>\n",
       "      <td>0.0</td>\n",
       "      <td>0.0</td>\n",
       "      <td>1.0</td>\n",
       "      <td>0.0</td>\n",
       "    </tr>\n",
       "    <tr>\n",
       "      <th>3</th>\n",
       "      <td>1.0</td>\n",
       "      <td>0.0</td>\n",
       "      <td>0.0</td>\n",
       "      <td>0.0</td>\n",
       "      <td>0.0</td>\n",
       "      <td>0.0</td>\n",
       "      <td>0.0</td>\n",
       "      <td>0.0</td>\n",
       "      <td>0.0</td>\n",
       "      <td>46.0</td>\n",
       "      <td>...</td>\n",
       "      <td>0.0</td>\n",
       "      <td>1.0</td>\n",
       "      <td>0.0</td>\n",
       "      <td>0.0</td>\n",
       "      <td>0.0</td>\n",
       "      <td>1.0</td>\n",
       "      <td>0.0</td>\n",
       "      <td>0.0</td>\n",
       "      <td>1.0</td>\n",
       "      <td>0.0</td>\n",
       "    </tr>\n",
       "    <tr>\n",
       "      <th>4</th>\n",
       "      <td>0.0</td>\n",
       "      <td>0.0</td>\n",
       "      <td>0.0</td>\n",
       "      <td>1.0</td>\n",
       "      <td>0.0</td>\n",
       "      <td>0.0</td>\n",
       "      <td>0.0</td>\n",
       "      <td>0.0</td>\n",
       "      <td>0.0</td>\n",
       "      <td>32.0</td>\n",
       "      <td>...</td>\n",
       "      <td>0.0</td>\n",
       "      <td>1.0</td>\n",
       "      <td>0.0</td>\n",
       "      <td>0.0</td>\n",
       "      <td>0.0</td>\n",
       "      <td>1.0</td>\n",
       "      <td>0.0</td>\n",
       "      <td>0.0</td>\n",
       "      <td>1.0</td>\n",
       "      <td>0.0</td>\n",
       "    </tr>\n",
       "    <tr>\n",
       "      <th>...</th>\n",
       "      <td>...</td>\n",
       "      <td>...</td>\n",
       "      <td>...</td>\n",
       "      <td>...</td>\n",
       "      <td>...</td>\n",
       "      <td>...</td>\n",
       "      <td>...</td>\n",
       "      <td>...</td>\n",
       "      <td>...</td>\n",
       "      <td>...</td>\n",
       "      <td>...</td>\n",
       "      <td>...</td>\n",
       "      <td>...</td>\n",
       "      <td>...</td>\n",
       "      <td>...</td>\n",
       "      <td>...</td>\n",
       "      <td>...</td>\n",
       "      <td>...</td>\n",
       "      <td>...</td>\n",
       "      <td>...</td>\n",
       "      <td>...</td>\n",
       "    </tr>\n",
       "    <tr>\n",
       "      <th>106274</th>\n",
       "      <td>1.0</td>\n",
       "      <td>0.0</td>\n",
       "      <td>0.0</td>\n",
       "      <td>1.0</td>\n",
       "      <td>1.0</td>\n",
       "      <td>1.0</td>\n",
       "      <td>1.0</td>\n",
       "      <td>1.0</td>\n",
       "      <td>0.0</td>\n",
       "      <td>26.0</td>\n",
       "      <td>...</td>\n",
       "      <td>0.0</td>\n",
       "      <td>1.0</td>\n",
       "      <td>0.0</td>\n",
       "      <td>0.0</td>\n",
       "      <td>1.0</td>\n",
       "      <td>0.0</td>\n",
       "      <td>0.0</td>\n",
       "      <td>0.0</td>\n",
       "      <td>1.0</td>\n",
       "      <td>0.0</td>\n",
       "    </tr>\n",
       "    <tr>\n",
       "      <th>106275</th>\n",
       "      <td>0.0</td>\n",
       "      <td>0.0</td>\n",
       "      <td>0.6</td>\n",
       "      <td>0.6</td>\n",
       "      <td>0.6</td>\n",
       "      <td>0.4</td>\n",
       "      <td>0.6</td>\n",
       "      <td>0.2</td>\n",
       "      <td>0.0</td>\n",
       "      <td>36.0</td>\n",
       "      <td>...</td>\n",
       "      <td>0.0</td>\n",
       "      <td>0.0</td>\n",
       "      <td>0.0</td>\n",
       "      <td>1.0</td>\n",
       "      <td>1.0</td>\n",
       "      <td>0.0</td>\n",
       "      <td>0.0</td>\n",
       "      <td>0.0</td>\n",
       "      <td>1.0</td>\n",
       "      <td>0.0</td>\n",
       "    </tr>\n",
       "    <tr>\n",
       "      <th>106276</th>\n",
       "      <td>0.0</td>\n",
       "      <td>0.0</td>\n",
       "      <td>0.0</td>\n",
       "      <td>1.0</td>\n",
       "      <td>0.0</td>\n",
       "      <td>0.0</td>\n",
       "      <td>0.0</td>\n",
       "      <td>0.0</td>\n",
       "      <td>0.0</td>\n",
       "      <td>35.0</td>\n",
       "      <td>...</td>\n",
       "      <td>0.0</td>\n",
       "      <td>1.0</td>\n",
       "      <td>0.0</td>\n",
       "      <td>0.0</td>\n",
       "      <td>1.0</td>\n",
       "      <td>0.0</td>\n",
       "      <td>0.0</td>\n",
       "      <td>0.0</td>\n",
       "      <td>1.0</td>\n",
       "      <td>0.0</td>\n",
       "    </tr>\n",
       "    <tr>\n",
       "      <th>106277</th>\n",
       "      <td>0.0</td>\n",
       "      <td>0.0</td>\n",
       "      <td>0.0</td>\n",
       "      <td>1.0</td>\n",
       "      <td>0.0</td>\n",
       "      <td>0.0</td>\n",
       "      <td>0.0</td>\n",
       "      <td>0.0</td>\n",
       "      <td>0.0</td>\n",
       "      <td>36.0</td>\n",
       "      <td>...</td>\n",
       "      <td>0.0</td>\n",
       "      <td>1.0</td>\n",
       "      <td>0.0</td>\n",
       "      <td>0.0</td>\n",
       "      <td>1.0</td>\n",
       "      <td>0.0</td>\n",
       "      <td>0.0</td>\n",
       "      <td>0.0</td>\n",
       "      <td>1.0</td>\n",
       "      <td>0.0</td>\n",
       "    </tr>\n",
       "    <tr>\n",
       "      <th>106278</th>\n",
       "      <td>0.0</td>\n",
       "      <td>0.0</td>\n",
       "      <td>0.0</td>\n",
       "      <td>0.0</td>\n",
       "      <td>1.0</td>\n",
       "      <td>1.0</td>\n",
       "      <td>1.0</td>\n",
       "      <td>1.0</td>\n",
       "      <td>0.0</td>\n",
       "      <td>58.0</td>\n",
       "      <td>...</td>\n",
       "      <td>0.0</td>\n",
       "      <td>1.0</td>\n",
       "      <td>0.0</td>\n",
       "      <td>0.0</td>\n",
       "      <td>1.0</td>\n",
       "      <td>0.0</td>\n",
       "      <td>0.0</td>\n",
       "      <td>0.0</td>\n",
       "      <td>1.0</td>\n",
       "      <td>0.0</td>\n",
       "    </tr>\n",
       "  </tbody>\n",
       "</table>\n",
       "<p>106279 rows × 252 columns</p>\n",
       "</div>"
      ],
      "text/plain": [
       "        ACSIN  ACTCAP  ACTDED  ACTMGT  ACTRD  ACTRD2  ACTRDT  ACTRES  ACTTCH  \\\n",
       "0         0.0     0.0     0.0     0.0    0.0     0.0     0.0     0.0     0.0   \n",
       "1         0.0     0.0     0.0     1.0    0.0     0.0     0.0     0.0     0.0   \n",
       "2         0.0     0.0     1.0     1.0    1.0     1.0     1.0     0.0     0.0   \n",
       "3         1.0     0.0     0.0     0.0    0.0     0.0     0.0     0.0     0.0   \n",
       "4         0.0     0.0     0.0     1.0    0.0     0.0     0.0     0.0     0.0   \n",
       "...       ...     ...     ...     ...    ...     ...     ...     ...     ...   \n",
       "106274    1.0     0.0     0.0     1.0    1.0     1.0     1.0     1.0     0.0   \n",
       "106275    0.0     0.0     0.6     0.6    0.6     0.4     0.6     0.2     0.0   \n",
       "106276    0.0     0.0     0.0     1.0    0.0     0.0     0.0     0.0     0.0   \n",
       "106277    0.0     0.0     0.0     1.0    0.0     0.0     0.0     0.0     0.0   \n",
       "106278    0.0     0.0     0.0     0.0    1.0     1.0     1.0     1.0     0.0   \n",
       "\n",
       "         AGE  ...  BARGN_55  CTZUS_1  CTZUS_2  CTZUS_3  FACBEN_1  FACBEN_2  \\\n",
       "0       40.0  ...       0.0      1.0      0.0      0.0       1.0       0.0   \n",
       "1       40.0  ...       0.0      1.0      0.0      0.0       1.0       0.0   \n",
       "2       34.0  ...       0.0      1.0      0.0      0.0       1.0       0.0   \n",
       "3       46.0  ...       0.0      1.0      0.0      0.0       0.0       1.0   \n",
       "4       32.0  ...       0.0      1.0      0.0      0.0       0.0       1.0   \n",
       "...      ...  ...       ...      ...      ...      ...       ...       ...   \n",
       "106274  26.0  ...       0.0      1.0      0.0      0.0       1.0       0.0   \n",
       "106275  36.0  ...       0.0      0.0      0.0      1.0       1.0       0.0   \n",
       "106276  35.0  ...       0.0      1.0      0.0      0.0       1.0       0.0   \n",
       "106277  36.0  ...       0.0      1.0      0.0      0.0       1.0       0.0   \n",
       "106278  58.0  ...       0.0      1.0      0.0      0.0       1.0       0.0   \n",
       "\n",
       "        FACBEN_3  FACBEN_4  WKSYR_1  WKSYR_2  \n",
       "0            0.0       0.0      1.0      0.0  \n",
       "1            0.0       0.0      1.0      0.0  \n",
       "2            0.0       0.0      1.0      0.0  \n",
       "3            0.0       0.0      1.0      0.0  \n",
       "4            0.0       0.0      1.0      0.0  \n",
       "...          ...       ...      ...      ...  \n",
       "106274       0.0       0.0      1.0      0.0  \n",
       "106275       0.0       0.0      1.0      0.0  \n",
       "106276       0.0       0.0      1.0      0.0  \n",
       "106277       0.0       0.0      1.0      0.0  \n",
       "106278       0.0       0.0      1.0      0.0  \n",
       "\n",
       "[106279 rows x 252 columns]"
      ]
     },
     "metadata": {},
     "output_type": "display_data"
    }
   ],
   "source": [
    "df_final_impute = df_final\n",
    "df_final_impute[df_final_impute.columns] = knn_imputer.fit_transform(df_final_impute[df_final_impute.columns])\n",
    "df_final_impute\n"
   ]
  },
  {
   "cell_type": "markdown",
   "metadata": {},
   "source": [
    "One hot encoded categorical data"
   ]
  },
  {
   "cell_type": "code",
   "execution_count": 93,
   "metadata": {},
   "outputs": [
    {
     "ename": "AttributeError",
     "evalue": "'numpy.ndarray' object has no attribute 'select_dtypes'",
     "output_type": "error",
     "traceback": [
      "\u001b[1;31m---------------------------------------------------------------------------\u001b[0m",
      "\u001b[1;31mAttributeError\u001b[0m                            Traceback (most recent call last)",
      "\u001b[1;32m~\\AppData\\Local\\Temp\\ipykernel_24772\\875146362.py\u001b[0m in \u001b[0;36m<module>\u001b[1;34m\u001b[0m\n\u001b[0;32m      3\u001b[0m \u001b[1;33m\u001b[0m\u001b[0m\n\u001b[0;32m      4\u001b[0m \u001b[1;31m# Creating dummy variables for the categorical columns and drop orignal var\u001b[0m\u001b[1;33m\u001b[0m\u001b[1;33m\u001b[0m\u001b[0m\n\u001b[1;32m----> 5\u001b[1;33m \u001b[0mcategorical_cols\u001b[0m \u001b[1;33m=\u001b[0m \u001b[0mdf_dummy\u001b[0m\u001b[1;33m.\u001b[0m\u001b[0mselect_dtypes\u001b[0m\u001b[1;33m(\u001b[0m\u001b[0mexclude\u001b[0m\u001b[1;33m=\u001b[0m\u001b[1;33m[\u001b[0m\u001b[1;34m'number'\u001b[0m\u001b[1;33m]\u001b[0m\u001b[1;33m)\u001b[0m\u001b[1;33m.\u001b[0m\u001b[0mcolumns\u001b[0m\u001b[1;33m.\u001b[0m\u001b[0mdifference\u001b[0m\u001b[1;33m(\u001b[0m\u001b[0mnumerical_cols\u001b[0m\u001b[1;33m)\u001b[0m\u001b[1;33m\u001b[0m\u001b[1;33m\u001b[0m\u001b[0m\n\u001b[0m\u001b[0;32m      6\u001b[0m \u001b[0mdf_dummies\u001b[0m \u001b[1;33m=\u001b[0m \u001b[0mpd\u001b[0m\u001b[1;33m.\u001b[0m\u001b[0mget_dummies\u001b[0m\u001b[1;33m(\u001b[0m\u001b[0mdf_dummy\u001b[0m\u001b[1;33m[\u001b[0m\u001b[0mcategorical_cols\u001b[0m\u001b[1;33m]\u001b[0m\u001b[1;33m)\u001b[0m\u001b[1;33m\u001b[0m\u001b[1;33m\u001b[0m\u001b[0m\n\u001b[0;32m      7\u001b[0m \u001b[0mdf_final\u001b[0m \u001b[1;33m=\u001b[0m \u001b[0mpd\u001b[0m\u001b[1;33m.\u001b[0m\u001b[0mconcat\u001b[0m\u001b[1;33m(\u001b[0m\u001b[1;33m[\u001b[0m\u001b[0mdf_dummy\u001b[0m\u001b[1;33m,\u001b[0m \u001b[0mdf_dummies\u001b[0m\u001b[1;33m]\u001b[0m\u001b[1;33m,\u001b[0m \u001b[0maxis\u001b[0m\u001b[1;33m=\u001b[0m\u001b[1;36m1\u001b[0m\u001b[1;33m)\u001b[0m\u001b[1;33m\u001b[0m\u001b[1;33m\u001b[0m\u001b[0m\n",
      "\u001b[1;31mAttributeError\u001b[0m: 'numpy.ndarray' object has no attribute 'select_dtypes'"
     ]
    }
   ],
   "source": [
    "\n",
    "#Categorical values to dummy\n",
    "df_dummy = df_filtered\n",
    "\n",
    "# Creating dummy variables for the categorical columns and drop orignal var\n",
    "categorical_cols = df_dummy.select_dtypes(exclude=['number']).columns.difference(numerical_cols)\n",
    "df_dummies = pd.get_dummies(df_dummy[categorical_cols])\n",
    "df_final = pd.concat([df_dummy, df_dummies], axis=1)\n",
    "df_final.drop(categorical_cols, axis=1, inplace=True)\n",
    "df_final.head(5)"
   ]
  },
  {
   "cell_type": "markdown",
   "metadata": {},
   "source": [
    "Checking Multicolinearity now."
   ]
  },
  {
   "cell_type": "markdown",
   "metadata": {},
   "source": [
    "Using Imperitive Impute from Scikit learn to impute. Maybe do KNN for faster time?\n",
    "Take long time to impute\n",
    "\n",
    "Can't use this method. Too long to impute. I have to consider missing data first"
   ]
  },
  {
   "cell_type": "code",
   "execution_count": null,
   "metadata": {},
   "outputs": [],
   "source": [
    "# missing_percentages = df_final.isnull().mean() * 100\n",
    "# # Convert to DataFrame for better display\n",
    "# missing_df = pd.DataFrame(missing_percentages, columns=['% Missing Values'])\n",
    "\n",
    "# import missingno as msno\n",
    "\n",
    "# msno.matrix(df_final)"
   ]
  },
  {
   "cell_type": "code",
   "execution_count": 110,
   "metadata": {},
   "outputs": [],
   "source": [
    "# #pickle file to save:\n",
    "# with open('imputed_college_data.pkl', 'wb') as file:\n",
    "#     pickle.dump(df_final_impute, file)\n",
    "# import pickle\n",
    "# # Load the DataFrame from the pickle file\n",
    "with open('imputed_college_data.pkl', 'rb') as file:\n",
    "    df_final_impute = pickle.load(file)"
   ]
  },
  {
   "cell_type": "code",
   "execution_count": 111,
   "metadata": {},
   "outputs": [
    {
     "name": "stderr",
     "output_type": "stream",
     "text": [
      "Calculating VIF:   6%|▋         | 16/251 [00:27<06:27,  1.65s/it]c:\\Users\\HoangLe.HoangLeLaptop\\anaconda3\\lib\\site-packages\\statsmodels\\stats\\outliers_influence.py:195: RuntimeWarning: divide by zero encountered in double_scalars\n",
      "  vif = 1. / (1. - r_squared_i)\n",
      "Calculating VIF:  25%|██▍       | 62/251 [01:41<04:59,  1.58s/it]c:\\Users\\HoangLe.HoangLeLaptop\\anaconda3\\lib\\site-packages\\statsmodels\\regression\\linear_model.py:1736: RuntimeWarning: divide by zero encountered in double_scalars\n",
      "  return 1 - self.ssr/self.centered_tss\n",
      "Calculating VIF: 100%|██████████| 251/251 [06:43<00:00,  1.61s/it]"
     ]
    },
    {
     "name": "stdout",
     "output_type": "stream",
     "text": [
      "         feature           VIF\n",
      "0          ACSIN  2.551171e+00\n",
      "1         ACTCAP  5.568721e+00\n",
      "2         ACTDED  8.672769e+00\n",
      "3         ACTMGT  4.763844e+00\n",
      "4          ACTRD  2.103495e+01\n",
      "5         ACTRD2  1.303700e+01\n",
      "6         ACTRDT  9.074725e+00\n",
      "7         ACTRES  8.565181e+00\n",
      "8         ACTTCH  5.639412e+00\n",
      "9            AGE  2.821444e+03\n",
      "10         AGEGR  9.964570e+01\n",
      "11        ASDGRI  1.205237e+00\n",
      "12         ASIAN  8.079298e+00\n",
      "13        BAACYR  5.023458e+03\n",
      "14        BAAYR3  3.870871e+02\n",
      "15        BAAYR5  1.276948e+02\n",
      "16       BADGRUS           inf\n",
      "17         BAIND  1.166031e+00\n",
      "18          BAMN  4.886989e+00\n",
      "19          BAST  1.344012e+02\n",
      "20          BAYR  5.561070e+03\n",
      "21         BIRYR  2.778261e+03\n",
      "22         BLACK  1.147640e+01\n",
      "23         BSDGN  1.162761e+01\n",
      "24        BTHRGN  2.656772e+01\n",
      "25         BTHST  2.826011e+01\n",
      "26         BTHUS  4.888993e+02\n",
      "27        CHLVIN  1.341648e+00\n",
      "28          CLIC  1.387552e+00\n",
      "29       COMCOLI  1.282633e+00\n",
      "30       CTZDUAL  1.446078e+00\n",
      "31          CTZN  2.649755e+01\n",
      "32       CTZUSIN  2.630546e+02\n",
      "33         DGRDG  7.157784e+01\n",
      "34         DGRYR  1.565563e+05\n",
      "35       DIFCOGN  1.669352e+00\n",
      "36       DIFHEAR  1.751795e+00\n",
      "37       DIFLIFT  1.827425e+00\n",
      "38         DIFNO  2.567035e+00\n",
      "39        DIFSEE  2.075155e+00\n",
      "40       DIFWALK  1.749576e+00\n",
      "41          EARN  3.204423e+00\n",
      "42         EDDAD  1.600706e+00\n",
      "43         EDMOM  1.624356e+00\n",
      "44          EMED  6.090073e+02\n",
      "45          EMRG  1.286511e+01\n",
      "46       EMSECDT  1.116915e+02\n",
      "47       EMSECSM  2.722137e+02\n",
      "48        EMSIZE  1.731377e+00\n",
      "49         EMSMI  1.200844e+00\n",
      "50          EMST  3.414376e+01\n",
      "51          EMTP  1.495360e+01\n",
      "52          EMUS  7.677651e+01\n",
      "53       ERNCOV1  1.207343e+00\n",
      "54        FACADV  1.818554e+00\n",
      "55       FACCHAL  1.811580e+00\n",
      "56        FACIND  1.543074e+00\n",
      "57        FACLOC  1.174383e+00\n",
      "58       FACRESP  1.912220e+00\n",
      "59        FACSAL  1.637216e+00\n",
      "60        FACSEC  1.765323e+00\n",
      "61        FACSOC  1.542727e+00\n",
      "62        FNINUS  0.000000e+00\n",
      "63        FTPRET  1.326255e+00\n",
      "64   GENDER_male  1.308770e+00\n",
      "65        GOVSUP  1.124985e+00\n",
      "66        GRFAST  1.461260e+00\n",
      "67         GRFEM  1.363563e+00\n",
      "68        GRFERN  1.602687e+00\n",
      "69        GRFGFT  1.390753e+00\n",
      "70        GRFGRN  1.690806e+00\n",
      "71         GRFLN  2.661750e+00\n",
      "72       GRFNODG  1.088202e+01\n",
      "73         GRFOT  1.133260e+00\n",
      "74        GRFPLN  1.117649e+00\n",
      "75        GRFSAV  1.467655e+00\n",
      "76        GRFVET  1.245980e+00\n",
      "77       GRLOANR  5.460281e+00\n",
      "78        GROWER  3.517192e+00\n",
      "79        HCAPIN  2.404223e+00\n",
      "80        HDACY3  1.209839e+04\n",
      "81        HDACYR  1.451971e+05\n",
      "82         HDAY5  4.064619e+03\n",
      "83        HDCARN  4.840193e+01\n",
      "84       HDDGRUS  4.282581e+02\n",
      "85          HDMN  1.786781e+02\n",
      "86        HDPBPR  6.865302e+01\n",
      "87         HDRGN  3.481404e+03\n",
      "88          HDST  1.897433e+03\n",
      "89      HISPANIC           inf\n",
      "90      HISPCAT0           inf\n",
      "91      HISPCAT1           inf\n",
      "92      HISPCAT2           inf\n",
      "93      HISPCAT3           inf\n",
      "94      HISPCAT4           inf\n",
      "95         HRSWK  1.381284e+00\n",
      "96         HSNOI  1.017493e+00\n",
      "97          HSST  4.289517e+00\n",
      "98          HSYR  1.326433e+02\n",
      "99        JOBINS  2.174471e+00\n",
      "100      JOBPENS  1.690696e+00\n",
      "101     JOBPROFT  1.207754e+00\n",
      "102     JOBSATIS  2.216824e+00\n",
      "103       JOBVAC  1.810589e+00\n",
      "104    JOBVACCOV  1.186451e+00\n",
      "105       MARIND  6.481335e+00\n",
      "106       MARSTA  6.498202e+00\n",
      "107       MGRNAT  2.069908e+00\n",
      "108       MGROTH  1.468263e+00\n",
      "109       MGRSOC  1.259847e+00\n",
      "110       MINRTY  1.099033e+01\n",
      "111        MR3YR  1.207793e+04\n",
      "112        MR5YR  4.056760e+03\n",
      "113       MRCARN  4.837969e+01\n",
      "114      MRDACYR  1.450537e+05\n",
      "115         MRDG  6.790279e+01\n",
      "116      MRDGRUS  4.313280e+02\n",
      "117         MRMN  1.795452e+02\n",
      "118       MRPBPR  6.864432e+01\n",
      "119        MRRGN  3.524238e+03\n",
      "120         MRST  1.919398e+03\n",
      "121         MRYR  1.563476e+05\n",
      "122      N2BAMED  9.652138e+04\n",
      "123     N2BAMEDX  1.916879e+01\n",
      "124     N2DGRMED  3.896474e+06\n",
      "125     N2HDMEDX  6.277908e+02\n",
      "126      N2MRMED  3.891090e+06\n",
      "127     N2MRMEDX  6.358257e+02\n",
      "128     N2OCBLST  1.637325e+01\n",
      "129     N2OCMLST  8.868659e+00\n",
      "130     N2OCPRBG  1.040653e+01\n",
      "131     N2OCPRMG  2.713385e+01\n",
      "132       N3OCPR  1.031628e+05\n",
      "133     N3OCPRNG  1.032548e+05\n",
      "134      N3OCPRX  4.203097e+00\n",
      "135      NACEDMG  2.565756e+00\n",
      "136       NATIVE  1.791159e+00\n",
      "137      NBAMEBG  1.351246e+01\n",
      "138      NBAMEMG  2.436568e+01\n",
      "139      NBAMENG  9.666029e+04\n",
      "140      NBASEMG  3.844487e+00\n",
      "141      ND2MEMG  4.352757e+00\n",
      "142      ND2SEMG  2.297008e+00\n",
      "143      ND3MEMG  3.015902e+00\n",
      "144      ND3SEMG  1.525821e+00\n",
      "145      ND4MEMG  1.657406e+00\n",
      "146      ND4SEMG  1.247230e+00\n",
      "147      ND5MEMG  1.304628e+00\n",
      "148      ND5SEMG  1.220435e+00\n",
      "149      NDGMEBG  2.975026e+02\n",
      "150      NDGMEMG  9.420995e+03\n",
      "151      NDGMENG  3.969615e+06\n",
      "152        NEDTP  4.421632e+00\n",
      "153       NEWBUS  1.168321e+00\n",
      "154      NHDSEMG  6.050357e+01\n",
      "155      NMRMEBG  2.983754e+02\n",
      "156      NMRMEMG  9.471739e+03\n",
      "157      NMRMENG  3.965820e+06\n",
      "158      NMRSEMG  6.026565e+01\n",
      "159       OBSNUM  1.002375e+00\n",
      "160      OCEDRLP  1.518341e+00\n",
      "161      PACIFIC  2.556956e+00\n",
      "162        PRMBR  1.405515e+00\n",
      "163      PROMTGI  1.532266e+00\n",
      "164        RACEM  5.581163e+01\n",
      "165      RACETHM  2.863778e+01\n",
      "166        REFYR  0.000000e+00\n",
      "167       RESIDE  0.000000e+00\n",
      "168     RESPLCUS  8.023294e+01\n",
      "169      RESPLO3  3.789027e+01\n",
      "170      RESPLOC  1.461683e+01\n",
      "171       SALARY  4.864114e+03\n",
      "172      SALCOV1  1.295785e+00\n",
      "173       SATADV  1.906254e+00\n",
      "174       SATBEN  1.882296e+00\n",
      "175      SATCHAL  2.348522e+00\n",
      "176       SATIND  1.673214e+00\n",
      "177       SATLOC  1.233574e+00\n",
      "178      SATRESP  2.268282e+00\n",
      "179       SATSAL  1.866640e+00\n",
      "180       SATSEC  1.528863e+00\n",
      "181       SATSOC  1.757890e+00\n",
      "182      SRVMODE  1.078289e+00\n",
      "183       STRTMN  1.024832e+00\n",
      "184       STRTYR  1.678333e+00\n",
      "185        SUPWK  1.573458e+00\n",
      "186        SURID  0.000000e+00\n",
      "187      SURV_SE  2.951677e+00\n",
      "188        TELEW  1.282449e+00\n",
      "189       UGFAST  1.256617e+00\n",
      "190        UGFEM  1.106569e+00\n",
      "191       UGFERN  1.488476e+00\n",
      "192       UGFGFT  1.491379e+00\n",
      "193       UGFGRN  1.395388e+00\n",
      "194        UGFLN  1.940898e+00\n",
      "195      UGFNODG  1.126087e+01\n",
      "196        UGFOT  1.101728e+00\n",
      "197       UGFPLN  1.104227e+00\n",
      "198       UGFSAV  1.317748e+00\n",
      "199       UGFVET  1.550297e+00\n",
      "200      UGLOANR  2.721141e+00\n",
      "201       UGOWER  2.133416e+00\n",
      "202      VETSTAT  1.842646e+00\n",
      "203        WAACC  1.643652e+00\n",
      "204      WAAPRSH  1.865513e+00\n",
      "205       WABRSH  1.613374e+00\n",
      "206        WACOM  2.131423e+00\n",
      "207        WADEV  1.889032e+00\n",
      "208        WADSN  2.021787e+00\n",
      "209       WAEMRL  1.380752e+00\n",
      "210       WAMGMT  1.943578e+00\n",
      "211         WAOT  1.449602e+00\n",
      "212        WAPRI  4.463683e+00\n",
      "213       WAPROD  1.443530e+00\n",
      "214       WAPRRD  1.948484e+01\n",
      "215       WAPRSM  2.371706e+01\n",
      "216      WAPRSM2  4.534341e+02\n",
      "217      WAPRSM3  4.782590e+02\n",
      "218         WAQM  1.431256e+00\n",
      "219       WASALE  1.501118e+00\n",
      "220       WASCSM  2.589490e+01\n",
      "221      WASCSM2  3.095856e+02\n",
      "222      WASCSM3  3.941494e+02\n",
      "223        WASEC  2.337228e+00\n",
      "224        WASVC  2.030037e+00\n",
      "225        WATEA  2.098776e+00\n",
      "226        WHITE  5.542346e+01\n",
      "227        WKSWK  3.128557e+00\n",
      "228       WKTRNI  1.336777e+00\n",
      "229         WRKG  4.879714e+03\n",
      "230        WRKGP  3.477713e+00\n",
      "231      WTSURVY  1.277657e+00\n",
      "232     BARGN_00           inf\n",
      "233     BARGN_10           inf\n",
      "234     BARGN_20           inf\n",
      "235     BARGN_30           inf\n",
      "236     BARGN_31           inf\n",
      "237     BARGN_33           inf\n",
      "238     BARGN_37           inf\n",
      "239     BARGN_40           inf\n",
      "240     BARGN_50           inf\n",
      "241     BARGN_55           inf\n",
      "242      CTZUS_1           inf\n",
      "243      CTZUS_2           inf\n",
      "244      CTZUS_3           inf\n",
      "245     FACBEN_1           inf\n",
      "246     FACBEN_2           inf\n",
      "247     FACBEN_3           inf\n",
      "248     FACBEN_4           inf\n",
      "249      WKSYR_1           inf\n",
      "250      WKSYR_2           inf\n"
     ]
    },
    {
     "name": "stderr",
     "output_type": "stream",
     "text": [
      "\n"
     ]
    }
   ],
   "source": [
    "from statsmodels.stats.outliers_influence import variance_inflation_factor\n",
    "import pandas as pd\n",
    "\n",
    "# Assuming 'df_final' is your DataFrame\n",
    "\n",
    "# Set the independent variables, excluding 'LFSTAT'\n",
    "X_columns = [col for col in df_final_impute.columns if col != 'LFSTAT']\n",
    "X = df_final_impute[X_columns]\n",
    "\n",
    "# VIF DataFrame\n",
    "vif_data = pd.DataFrame()\n",
    "vif_data[\"feature\"] = X.columns\n",
    "\n",
    "# Initialize list to store VIF for each feature\n",
    "vif_values = []\n",
    "\n",
    "# Wrap the loop with tqdm for a progress bar\n",
    "for i in tqdm(range(len(X.columns)), desc='Calculating VIF'):\n",
    "    # Calculate VIF for each feature in X\n",
    "    vif = variance_inflation_factor(X.values, i)\n",
    "    vif_values.append(vif)\n",
    "\n",
    "# Assign the VIF values to the DataFrame\n",
    "vif_data[\"VIF\"] = vif_values\n",
    "\n",
    "print(vif_data)\n",
    "# vif_data.to_csv(\"vif_data.csv\")"
   ]
  },
  {
   "cell_type": "code",
   "execution_count": 112,
   "metadata": {},
   "outputs": [
    {
     "data": {
      "text/plain": [
       "113"
      ]
     },
     "execution_count": 112,
     "metadata": {},
     "output_type": "execute_result"
    }
   ],
   "source": [
    "count = (vif_data[\"VIF\"] > 10).sum()\n",
    "count"
   ]
  },
  {
   "cell_type": "markdown",
   "metadata": {},
   "source": [
    "Skip it. Do logit"
   ]
  },
  {
   "cell_type": "markdown",
   "metadata": {},
   "source": [
    "Detect zero counts variables. Omit them"
   ]
  },
  {
   "cell_type": "code",
   "execution_count": 115,
   "metadata": {},
   "outputs": [
    {
     "name": "stderr",
     "output_type": "stream",
     "text": [
      "Analyzing Variables:   3%|▎         | 7/252 [00:00<00:03, 65.62it/s]"
     ]
    },
    {
     "name": "stdout",
     "output_type": "stream",
     "text": [
      "Variable 'ACTCAP' has cells with zero counts.\n",
      "Variable 'ACTDED' has cells with zero counts.\n",
      "Variable 'ACTMGT' has cells with zero counts.\n",
      "Variable 'ACTRD' has cells with zero counts.\n",
      "Variable 'ACTRD2' has cells with zero counts.\n",
      "Variable 'ACTRDT' has cells with zero counts.\n",
      "Variable 'ACTRES' has cells with zero counts.\n",
      "Variable 'ACTTCH' has cells with zero counts.\n"
     ]
    },
    {
     "name": "stderr",
     "output_type": "stream",
     "text": [
      "Analyzing Variables:   8%|▊         | 20/252 [00:00<00:04, 47.04it/s]"
     ]
    },
    {
     "name": "stdout",
     "output_type": "stream",
     "text": [
      "Variable 'BAACYR' has cells with zero counts.\n",
      "Variable 'BAAYR3' has cells with zero counts.\n",
      "Variable 'BAAYR5' has cells with zero counts.\n",
      "Variable 'BAMN' has cells with zero counts.\n",
      "Variable 'BAST' has cells with zero counts.\n"
     ]
    },
    {
     "name": "stderr",
     "output_type": "stream",
     "text": [
      "Analyzing Variables:  12%|█▏        | 30/252 [00:00<00:04, 44.81it/s]"
     ]
    },
    {
     "name": "stdout",
     "output_type": "stream",
     "text": [
      "Variable 'BAYR' has cells with zero counts.\n",
      "Variable 'BTHRGN' has cells with zero counts.\n",
      "Variable 'BTHST' has cells with zero counts.\n",
      "Variable 'CLIC' has cells with zero counts.\n"
     ]
    },
    {
     "name": "stderr",
     "output_type": "stream",
     "text": [
      "Analyzing Variables:  14%|█▍        | 36/252 [00:00<00:04, 48.52it/s]"
     ]
    },
    {
     "name": "stdout",
     "output_type": "stream",
     "text": [
      "Variable 'DGRYR' has cells with zero counts.\n"
     ]
    },
    {
     "name": "stderr",
     "output_type": "stream",
     "text": [
      "Analyzing Variables:  19%|█▊        | 47/252 [00:03<00:26,  7.61it/s]"
     ]
    },
    {
     "name": "stdout",
     "output_type": "stream",
     "text": [
      "Variable 'EARN' has cells with zero counts.\n",
      "Variable 'EMED' has cells with zero counts.\n",
      "Variable 'EMRG' has cells with zero counts.\n",
      "Variable 'EMSECDT' has cells with zero counts.\n",
      "Variable 'EMSECSM' has cells with zero counts.\n",
      "Variable 'EMSIZE' has cells with zero counts.\n",
      "Variable 'EMSMI' has cells with zero counts.\n"
     ]
    },
    {
     "name": "stderr",
     "output_type": "stream",
     "text": [
      "Analyzing Variables:  23%|██▎       | 58/252 [00:03<00:14, 13.66it/s]"
     ]
    },
    {
     "name": "stdout",
     "output_type": "stream",
     "text": [
      "Variable 'EMST' has cells with zero counts.\n",
      "Variable 'EMTP' has cells with zero counts.\n",
      "Variable 'EMUS' has cells with zero counts.\n",
      "Variable 'ERNCOV1' has cells with zero counts.\n",
      "Variable 'FACADV' has cells with zero counts.\n",
      "Variable 'FACCHAL' has cells with zero counts.\n",
      "Variable 'FACIND' has cells with zero counts.\n",
      "Variable 'FACLOC' has cells with zero counts.\n",
      "Variable 'FACRESP' has cells with zero counts.\n",
      "Variable 'FACSAL' has cells with zero counts.\n",
      "Variable 'FACSEC' has cells with zero counts.\n"
     ]
    },
    {
     "name": "stderr",
     "output_type": "stream",
     "text": [
      "Analyzing Variables:  28%|██▊       | 71/252 [00:04<00:07, 24.31it/s]"
     ]
    },
    {
     "name": "stdout",
     "output_type": "stream",
     "text": [
      "Variable 'FACSOC' has cells with zero counts.\n",
      "Variable 'FTPRET' has cells with zero counts.\n"
     ]
    },
    {
     "name": "stderr",
     "output_type": "stream",
     "text": [
      "Analyzing Variables:  35%|███▌      | 89/252 [00:04<00:04, 34.79it/s]"
     ]
    },
    {
     "name": "stdout",
     "output_type": "stream",
     "text": [
      "Variable 'HDACYR' has cells with zero counts.\n",
      "Variable 'HDCARN' has cells with zero counts.\n",
      "Variable 'HDST' has cells with zero counts.\n"
     ]
    },
    {
     "name": "stderr",
     "output_type": "stream",
     "text": [
      "Analyzing Variables:  40%|████      | 101/252 [00:04<00:04, 36.28it/s]"
     ]
    },
    {
     "name": "stdout",
     "output_type": "stream",
     "text": [
      "Variable 'HRSWK' has cells with zero counts.\n",
      "Variable 'HSST' has cells with zero counts.\n",
      "Variable 'HSYR' has cells with zero counts.\n",
      "Variable 'JOBINS' has cells with zero counts.\n",
      "Variable 'JOBPENS' has cells with zero counts.\n",
      "Variable 'JOBPROFT' has cells with zero counts.\n",
      "Variable 'JOBSATIS' has cells with zero counts.\n",
      "Variable 'JOBVAC' has cells with zero counts.\n",
      "Variable 'JOBVACCOV' has cells with zero counts.\n"
     ]
    },
    {
     "name": "stderr",
     "output_type": "stream",
     "text": [
      "Analyzing Variables:  45%|████▌     | 114/252 [00:05<00:03, 45.00it/s]"
     ]
    },
    {
     "name": "stdout",
     "output_type": "stream",
     "text": [
      "Variable 'MGRNAT' has cells with zero counts.\n",
      "Variable 'MGROTH' has cells with zero counts.\n",
      "Variable 'MGRSOC' has cells with zero counts.\n",
      "Variable 'MRCARN' has cells with zero counts.\n",
      "Variable 'MRDACYR' has cells with zero counts.\n"
     ]
    },
    {
     "name": "stderr",
     "output_type": "stream",
     "text": [
      "Analyzing Variables:  48%|████▊     | 120/252 [00:05<00:03, 43.78it/s]"
     ]
    },
    {
     "name": "stdout",
     "output_type": "stream",
     "text": [
      "Variable 'MRST' has cells with zero counts.\n",
      "Variable 'MRYR' has cells with zero counts.\n",
      "Variable 'N2BAMED' has cells with zero counts.\n"
     ]
    },
    {
     "name": "stderr",
     "output_type": "stream",
     "text": [
      "Analyzing Variables:  50%|████▉     | 125/252 [00:07<00:16,  7.53it/s]"
     ]
    },
    {
     "name": "stdout",
     "output_type": "stream",
     "text": [
      "Variable 'N2BAMEDX' has cells with zero counts.\n",
      "Variable 'N2HDMEDX' has cells with zero counts.\n"
     ]
    },
    {
     "name": "stderr",
     "output_type": "stream",
     "text": [
      "Analyzing Variables:  51%|█████     | 129/252 [00:07<00:15,  7.86it/s]"
     ]
    },
    {
     "name": "stdout",
     "output_type": "stream",
     "text": [
      "Variable 'N2MRMEDX' has cells with zero counts.\n",
      "Variable 'N2OCBLST' has cells with zero counts.\n",
      "Variable 'N2OCMLST' has cells with zero counts.\n",
      "Variable 'N2OCPRBG' has cells with zero counts.\n",
      "Variable 'N2OCPRMG' has cells with zero counts.\n"
     ]
    },
    {
     "name": "stderr",
     "output_type": "stream",
     "text": [
      "Analyzing Variables:  53%|█████▎    | 134/252 [00:10<00:27,  4.28it/s]"
     ]
    },
    {
     "name": "stdout",
     "output_type": "stream",
     "text": [
      "Variable 'N3OCPR' has cells with zero counts.\n",
      "Variable 'N3OCPRNG' has cells with zero counts.\n"
     ]
    },
    {
     "name": "stderr",
     "output_type": "stream",
     "text": [
      "Analyzing Variables:  56%|█████▌    | 141/252 [00:13<00:28,  3.84it/s]"
     ]
    },
    {
     "name": "stdout",
     "output_type": "stream",
     "text": [
      "Variable 'N3OCPRX' has cells with zero counts.\n",
      "Variable 'NBAMENG' has cells with zero counts.\n"
     ]
    },
    {
     "name": "stderr",
     "output_type": "stream",
     "text": [
      "Analyzing Variables:  61%|██████    | 154/252 [00:13<00:11,  8.74it/s]"
     ]
    },
    {
     "name": "stdout",
     "output_type": "stream",
     "text": [
      "Variable 'ND5SEMG' has cells with zero counts.\n",
      "Variable 'NEDTP' has cells with zero counts.\n",
      "Variable 'NEWBUS' has cells with zero counts.\n"
     ]
    },
    {
     "name": "stderr",
     "output_type": "stream",
     "text": [
      "Analyzing Variables:  66%|██████▋   | 167/252 [00:30<00:57,  1.47it/s]"
     ]
    },
    {
     "name": "stdout",
     "output_type": "stream",
     "text": [
      "Variable 'OBSNUM' has cells with zero counts.\n",
      "Variable 'OCEDRLP' has cells with zero counts.\n",
      "Variable 'PRMBR' has cells with zero counts.\n",
      "Variable 'RESPLO3' has cells with zero counts.\n",
      "Variable 'RESPLOC' has cells with zero counts.\n"
     ]
    },
    {
     "name": "stderr",
     "output_type": "stream",
     "text": [
      "Analyzing Variables:  71%|███████   | 179/252 [00:32<00:27,  2.64it/s]"
     ]
    },
    {
     "name": "stdout",
     "output_type": "stream",
     "text": [
      "Variable 'SALARY' has cells with zero counts.\n",
      "Variable 'SALCOV1' has cells with zero counts.\n",
      "Variable 'SATADV' has cells with zero counts.\n",
      "Variable 'SATBEN' has cells with zero counts.\n",
      "Variable 'SATCHAL' has cells with zero counts.\n",
      "Variable 'SATIND' has cells with zero counts.\n",
      "Variable 'SATLOC' has cells with zero counts.\n",
      "Variable 'SATRESP' has cells with zero counts.\n",
      "Variable 'SATSAL' has cells with zero counts.\n",
      "Variable 'SATSEC' has cells with zero counts.\n",
      "Variable 'SATSOC' has cells with zero counts.\n"
     ]
    },
    {
     "name": "stderr",
     "output_type": "stream",
     "text": [
      "Analyzing Variables:  75%|███████▌  | 190/252 [00:32<00:12,  4.89it/s]"
     ]
    },
    {
     "name": "stdout",
     "output_type": "stream",
     "text": [
      "Variable 'STRTMN' has cells with zero counts.\n",
      "Variable 'STRTYR' has cells with zero counts.\n",
      "Variable 'SUPWK' has cells with zero counts.\n",
      "Variable 'TELEW' has cells with zero counts.\n"
     ]
    },
    {
     "name": "stderr",
     "output_type": "stream",
     "text": [
      "Analyzing Variables:  84%|████████▎ | 211/252 [00:32<00:02, 13.85it/s]"
     ]
    },
    {
     "name": "stdout",
     "output_type": "stream",
     "text": [
      "Variable 'WAACC' has cells with zero counts.\n",
      "Variable 'WAAPRSH' has cells with zero counts.\n",
      "Variable 'WABRSH' has cells with zero counts.\n",
      "Variable 'WACOM' has cells with zero counts.\n",
      "Variable 'WADEV' has cells with zero counts.\n",
      "Variable 'WADSN' has cells with zero counts.\n",
      "Variable 'WAEMRL' has cells with zero counts.\n",
      "Variable 'WAMGMT' has cells with zero counts.\n",
      "Variable 'WAOT' has cells with zero counts.\n",
      "Variable 'WAPRI' has cells with zero counts.\n",
      "Variable 'WAPROD' has cells with zero counts.\n",
      "Variable 'WAPRRD' has cells with zero counts.\n"
     ]
    },
    {
     "name": "stderr",
     "output_type": "stream",
     "text": [
      "Analyzing Variables:  88%|████████▊ | 223/252 [00:33<00:01, 21.60it/s]"
     ]
    },
    {
     "name": "stdout",
     "output_type": "stream",
     "text": [
      "Variable 'WAPRSM' has cells with zero counts.\n",
      "Variable 'WAPRSM2' has cells with zero counts.\n",
      "Variable 'WAPRSM3' has cells with zero counts.\n",
      "Variable 'WAQM' has cells with zero counts.\n",
      "Variable 'WASALE' has cells with zero counts.\n",
      "Variable 'WASCSM' has cells with zero counts.\n",
      "Variable 'WASCSM2' has cells with zero counts.\n",
      "Variable 'WASCSM3' has cells with zero counts.\n",
      "Variable 'WASEC' has cells with zero counts.\n",
      "Variable 'WASVC' has cells with zero counts.\n",
      "Variable 'WATEA' has cells with zero counts.\n"
     ]
    },
    {
     "name": "stderr",
     "output_type": "stream",
     "text": [
      "Analyzing Variables:  91%|█████████ | 229/252 [00:33<00:00, 25.87it/s]"
     ]
    },
    {
     "name": "stdout",
     "output_type": "stream",
     "text": [
      "Variable 'WKSWK' has cells with zero counts.\n",
      "Variable 'WKTRNI' has cells with zero counts.\n",
      "Variable 'WRKG' has cells with zero counts.\n"
     ]
    },
    {
     "name": "stderr",
     "output_type": "stream",
     "text": [
      "Analyzing Variables:  96%|█████████▋| 243/252 [00:49<00:04,  1.85it/s]"
     ]
    },
    {
     "name": "stdout",
     "output_type": "stream",
     "text": [
      "Variable 'WTSURVY' has cells with zero counts.\n"
     ]
    },
    {
     "name": "stderr",
     "output_type": "stream",
     "text": [
      "Analyzing Variables: 100%|██████████| 252/252 [00:49<00:00,  5.04it/s]"
     ]
    },
    {
     "name": "stdout",
     "output_type": "stream",
     "text": [
      "Variable 'WKSYR_1' has cells with zero counts.\n",
      "Variable 'WKSYR_2' has cells with zero counts.\n",
      "Variables with zero-count cells: ['ACTCAP', 'ACTDED', 'ACTMGT', 'ACTRD', 'ACTRD2', 'ACTRDT', 'ACTRES', 'ACTTCH', 'BAACYR', 'BAAYR3', 'BAAYR5', 'BAMN', 'BAST', 'BAYR', 'BTHRGN', 'BTHST', 'CLIC', 'DGRYR', 'EARN', 'EMED', 'EMRG', 'EMSECDT', 'EMSECSM', 'EMSIZE', 'EMSMI', 'EMST', 'EMTP', 'EMUS', 'ERNCOV1', 'FACADV', 'FACCHAL', 'FACIND', 'FACLOC', 'FACRESP', 'FACSAL', 'FACSEC', 'FACSOC', 'FTPRET', 'HDACYR', 'HDCARN', 'HDST', 'HRSWK', 'HSST', 'HSYR', 'JOBINS', 'JOBPENS', 'JOBPROFT', 'JOBSATIS', 'JOBVAC', 'JOBVACCOV', 'MGRNAT', 'MGROTH', 'MGRSOC', 'MRCARN', 'MRDACYR', 'MRST', 'MRYR', 'N2BAMED', 'N2BAMEDX', 'N2HDMEDX', 'N2MRMEDX', 'N2OCBLST', 'N2OCMLST', 'N2OCPRBG', 'N2OCPRMG', 'N3OCPR', 'N3OCPRNG', 'N3OCPRX', 'NBAMENG', 'ND5SEMG', 'NEDTP', 'NEWBUS', 'OBSNUM', 'OCEDRLP', 'PRMBR', 'RESPLO3', 'RESPLOC', 'SALARY', 'SALCOV1', 'SATADV', 'SATBEN', 'SATCHAL', 'SATIND', 'SATLOC', 'SATRESP', 'SATSAL', 'SATSEC', 'SATSOC', 'STRTMN', 'STRTYR', 'SUPWK', 'TELEW', 'WAACC', 'WAAPRSH', 'WABRSH', 'WACOM', 'WADEV', 'WADSN', 'WAEMRL', 'WAMGMT', 'WAOT', 'WAPRI', 'WAPROD', 'WAPRRD', 'WAPRSM', 'WAPRSM2', 'WAPRSM3', 'WAQM', 'WASALE', 'WASCSM', 'WASCSM2', 'WASCSM3', 'WASEC', 'WASVC', 'WATEA', 'WKSWK', 'WKTRNI', 'WRKG', 'WTSURVY', 'WKSYR_1', 'WKSYR_2']\n"
     ]
    },
    {
     "name": "stderr",
     "output_type": "stream",
     "text": [
      "\n"
     ]
    }
   ],
   "source": [
    "from tqdm import tqdm\n",
    "\n",
    "# List to keep track of variables with zero-count cells\n",
    "variables_to_drop = []\n",
    "outcome_variable = 'LFSTAT'\n",
    "\n",
    "df_final_impute['LFSTAT'] = df_final_impute['LFSTAT'].replace({3: 0, 2: 0})\n",
    "\n",
    "for predictor in tqdm(df_final_impute.columns, desc='Analyzing Variables'):\n",
    "    if predictor != outcome_variable:  # Skip the outcome variable itself\n",
    "        # Create a crosstab\n",
    "        ct = pd.crosstab(df_final_impute[outcome_variable], df_final_impute[predictor])\n",
    "        \n",
    "        # Check for any zero-count cells\n",
    "        if (ct == 0).any().any():  # Checks if there are any zeros in the crosstab\n",
    "            # print(f\"Variable '{predictor}' has cells with zero counts.\")\n",
    "            variables_to_drop.append(predictor)\n",
    "\n",
    "# Optionally, print or drop variables with zero-count cells\n",
    "print(\"Variables with zero-count cells:\", variables_to_drop)\n",
    "\n",
    "df_reduced = df_final_impute.drop(columns=variables_to_drop)\n"
   ]
  },
  {
   "cell_type": "markdown",
   "metadata": {},
   "source": [
    "Train Test Split"
   ]
  },
  {
   "cell_type": "code",
   "execution_count": 119,
   "metadata": {},
   "outputs": [],
   "source": [
    "# df_final_temp['LFSTAT'] = df_final_temp['LFSTAT'].replace({3: 0, 2: 0})\n",
    "X = df_reduced.drop('LFSTAT', axis=1)  # Features (independent variables)\n",
    "y = df_reduced['LFSTAT']  # Target variable (dependent variable)\n",
    "X_train, X_test, y_train, y_test = train_test_split(X, y, test_size=0.2, random_state=42)\n"
   ]
  },
  {
   "cell_type": "markdown",
   "metadata": {},
   "source": [
    "## Predictive Logit and Probit"
   ]
  },
  {
   "cell_type": "code",
   "execution_count": 120,
   "metadata": {},
   "outputs": [
    {
     "name": "stdout",
     "output_type": "stream",
     "text": [
      "[[    0  3483]\n",
      " [    0 17773]]\n",
      "              precision    recall  f1-score   support\n",
      "\n",
      "         0.0       0.00      0.00      0.00      3483\n",
      "         1.0       0.84      1.00      0.91     17773\n",
      "\n",
      "    accuracy                           0.84     21256\n",
      "   macro avg       0.42      0.50      0.46     21256\n",
      "weighted avg       0.70      0.84      0.76     21256\n",
      "\n"
     ]
    },
    {
     "name": "stderr",
     "output_type": "stream",
     "text": [
      "c:\\Users\\HoangLe.HoangLeLaptop\\anaconda3\\lib\\site-packages\\sklearn\\metrics\\_classification.py:1318: UndefinedMetricWarning: Precision and F-score are ill-defined and being set to 0.0 in labels with no predicted samples. Use `zero_division` parameter to control this behavior.\n",
      "  _warn_prf(average, modifier, msg_start, len(result))\n",
      "c:\\Users\\HoangLe.HoangLeLaptop\\anaconda3\\lib\\site-packages\\sklearn\\metrics\\_classification.py:1318: UndefinedMetricWarning: Precision and F-score are ill-defined and being set to 0.0 in labels with no predicted samples. Use `zero_division` parameter to control this behavior.\n",
      "  _warn_prf(average, modifier, msg_start, len(result))\n",
      "c:\\Users\\HoangLe.HoangLeLaptop\\anaconda3\\lib\\site-packages\\sklearn\\metrics\\_classification.py:1318: UndefinedMetricWarning: Precision and F-score are ill-defined and being set to 0.0 in labels with no predicted samples. Use `zero_division` parameter to control this behavior.\n",
      "  _warn_prf(average, modifier, msg_start, len(result))\n"
     ]
    }
   ],
   "source": [
    "from sklearn.linear_model import LogisticRegression\n",
    "from sklearn.metrics import classification_report, confusion_matrix\n",
    "\n",
    "# Initialize the LogisticRegression model\n",
    "logit_model = LogisticRegression(solver='liblinear')\n",
    "\n",
    "# Fit the model to your data\n",
    "logit_model.fit(X_train, y_train)\n",
    "\n",
    "# Predictions\n",
    "logit_predictions = logit_model.predict(X_test)\n",
    "\n",
    "# Evaluation\n",
    "print(confusion_matrix(y_test, logit_predictions))\n",
    "print(classification_report(y_test, logit_predictions))\n"
   ]
  },
  {
   "cell_type": "markdown",
   "metadata": {},
   "source": [
    "Probit"
   ]
  },
  {
   "cell_type": "code",
   "execution_count": 121,
   "metadata": {},
   "outputs": [
    {
     "name": "stdout",
     "output_type": "stream",
     "text": [
      "[[    0  3483]\n",
      " [    0 17773]]\n",
      "              precision    recall  f1-score   support\n",
      "\n",
      "         0.0       0.00      0.00      0.00      3483\n",
      "         1.0       0.84      1.00      0.91     17773\n",
      "\n",
      "    accuracy                           0.84     21256\n",
      "   macro avg       0.42      0.50      0.46     21256\n",
      "weighted avg       0.70      0.84      0.76     21256\n",
      "\n"
     ]
    },
    {
     "name": "stderr",
     "output_type": "stream",
     "text": [
      "c:\\Users\\HoangLe.HoangLeLaptop\\anaconda3\\lib\\site-packages\\sklearn\\metrics\\_classification.py:1318: UndefinedMetricWarning: Precision and F-score are ill-defined and being set to 0.0 in labels with no predicted samples. Use `zero_division` parameter to control this behavior.\n",
      "  _warn_prf(average, modifier, msg_start, len(result))\n",
      "c:\\Users\\HoangLe.HoangLeLaptop\\anaconda3\\lib\\site-packages\\sklearn\\metrics\\_classification.py:1318: UndefinedMetricWarning: Precision and F-score are ill-defined and being set to 0.0 in labels with no predicted samples. Use `zero_division` parameter to control this behavior.\n",
      "  _warn_prf(average, modifier, msg_start, len(result))\n",
      "c:\\Users\\HoangLe.HoangLeLaptop\\anaconda3\\lib\\site-packages\\sklearn\\metrics\\_classification.py:1318: UndefinedMetricWarning: Precision and F-score are ill-defined and being set to 0.0 in labels with no predicted samples. Use `zero_division` parameter to control this behavior.\n",
      "  _warn_prf(average, modifier, msg_start, len(result))\n"
     ]
    }
   ],
   "source": [
    "# Initialize the LogisticRegression model with settings that approximate a Probit model\n",
    "# Note: This remains an approximation; for exact Probit models, consider using statsmodels\n",
    "probit_approx_model = LogisticRegression(solver='liblinear', penalty='l2')\n",
    "\n",
    "# Fit the model to your data\n",
    "probit_approx_model.fit(X_train, y_train)\n",
    "\n",
    "# Predictions\n",
    "probit_approx_predictions = probit_approx_model.predict(X_test)\n",
    "\n",
    "# Evaluation\n",
    "print(confusion_matrix(y_test, probit_approx_predictions))\n",
    "print(classification_report(y_test, probit_approx_predictions))\n",
    "\n"
   ]
  },
  {
   "cell_type": "markdown",
   "metadata": {},
   "source": [
    "## Descriptive Probit Logit"
   ]
  },
  {
   "cell_type": "code",
   "execution_count": 122,
   "metadata": {},
   "outputs": [
    {
     "name": "stdout",
     "output_type": "stream",
     "text": [
      "Warning: Maximum number of iterations has been exceeded.\n",
      "         Current function value: 0.127895\n",
      "         Iterations: 35\n"
     ]
    },
    {
     "name": "stderr",
     "output_type": "stream",
     "text": [
      "c:\\Users\\HoangLe.HoangLeLaptop\\anaconda3\\lib\\site-packages\\statsmodels\\base\\model.py:604: ConvergenceWarning: Maximum Likelihood optimization failed to converge. Check mle_retvals\n",
      "  warnings.warn(\"Maximum Likelihood optimization failed to \"\n"
     ]
    },
    {
     "name": "stdout",
     "output_type": "stream",
     "text": [
      "                          Probit Regression Results                           \n",
      "==============================================================================\n",
      "Dep. Variable:                 LFSTAT   No. Observations:               106279\n",
      "Model:                         Probit   Df Residuals:                   106157\n",
      "Method:                           MLE   Df Model:                          121\n",
      "Date:                Thu, 01 Feb 2024   Pseudo R-squ.:                  0.7120\n",
      "Time:                        17:59:39   Log-Likelihood:                -13593.\n",
      "converged:                      False   LL-Null:                       -47188.\n",
      "Covariance Type:            nonrobust   LLR p-value:                     0.000\n",
      "===============================================================================\n",
      "                  coef    std err          z      P>|z|      [0.025      0.975]\n",
      "-------------------------------------------------------------------------------\n",
      "ACSIN          -0.5517        nan        nan        nan         nan         nan\n",
      "AGE            -0.0211        nan        nan        nan         nan         nan\n",
      "AGEGR           0.0028        nan        nan        nan         nan         nan\n",
      "ASDGRI         -0.0944        nan        nan        nan         nan         nan\n",
      "ASIAN          -0.0338        nan        nan        nan         nan         nan\n",
      "BADGRUS        -0.1851   1.92e+13  -9.62e-15      1.000   -3.77e+13    3.77e+13\n",
      "BAIND           0.1631   8.59e+05    1.9e-07      1.000   -1.68e+06    1.68e+06\n",
      "BIRYR           0.0026        nan        nan        nan         nan         nan\n",
      "BLACK           0.0289        nan        nan        nan         nan         nan\n",
      "BSDGN           0.0551   1329.132   4.14e-05      1.000   -2604.996    2605.106\n",
      "BTHUS          -0.6993        nan        nan        nan         nan         nan\n",
      "CHLVIN          0.0078   3030.817   2.57e-06      1.000   -5940.284    5940.300\n",
      "COMCOLI         0.0002   1902.749   1.21e-07      1.000   -3729.319    3729.319\n",
      "CTZDUAL        -0.0236        nan        nan        nan         nan         nan\n",
      "CTZN           -0.5094        nan        nan        nan         nan         nan\n",
      "CTZUSIN        -0.3455        nan        nan        nan         nan         nan\n",
      "DGRDG          -0.0149        nan        nan        nan         nan         nan\n",
      "DIFCOGN        -0.0417        nan        nan        nan         nan         nan\n",
      "DIFHEAR        -0.0020     84.154  -2.42e-05      1.000    -164.942     164.938\n",
      "DIFLIFT        -0.0210        nan        nan        nan         nan         nan\n",
      "DIFNO          -0.0280    557.567  -5.02e-05      1.000   -1092.840    1092.784\n",
      "DIFSEE          0.0630    352.405      0.000      1.000    -690.639     690.765\n",
      "DIFWALK        -0.1281        nan        nan        nan         nan         nan\n",
      "EDDAD          -0.0009    108.160  -8.15e-06      1.000    -211.991     211.990\n",
      "EDMOM           0.0087        nan        nan        nan         nan         nan\n",
      "FNINUS          0.0946        nan        nan        nan         nan         nan\n",
      "GENDER_male     0.3222        nan        nan        nan         nan         nan\n",
      "GOVSUP          0.6868      0.036     19.274      0.000       0.617       0.757\n",
      "GRFAST         -0.0314      0.040     -0.790      0.430      -0.109       0.046\n",
      "GRFEM          -0.0115      0.143     -0.081      0.936      -0.291       0.268\n",
      "GRFERN         -0.0304        nan        nan        nan         nan         nan\n",
      "GRFGFT         -0.0292      0.057     -0.508      0.612      -0.142       0.083\n",
      "GRFGRN          0.0842      0.032      2.648      0.008       0.022       0.146\n",
      "GRFLN           0.0153        nan        nan        nan         nan         nan\n",
      "GRFNODG         0.2249      0.037      6.034      0.000       0.152       0.298\n",
      "GRFOT           0.1411        nan        nan        nan         nan         nan\n",
      "GRFPLN          0.1467      0.057      2.572      0.010       0.035       0.258\n",
      "GRFSAV          0.0301      0.041      0.742      0.458      -0.049       0.110\n",
      "GRFVET         -0.0299      0.104     -0.288      0.774      -0.233       0.174\n",
      "GRLOANR         0.0182      0.012      1.555      0.120      -0.005       0.041\n",
      "GROWER          0.0144      0.006      2.578      0.010       0.003       0.025\n",
      "HCAPIN         -0.0867      0.033     -2.598      0.009      -0.152      -0.021\n",
      "HDACY3         -0.0403      1.079     -0.037      0.970      -2.156       2.075\n",
      "HDAY5           0.0448      1.067      0.042      0.966      -2.047       2.137\n",
      "HDDGRUS         0.2112      7.567      0.028      0.978     -14.619      15.041\n",
      "HDMN            0.0148        nan        nan        nan         nan         nan\n",
      "HDPBPR          0.0265      1.222      0.022      0.983      -2.368       2.421\n",
      "HDRGN           0.0106      0.235      0.045      0.964      -0.450       0.471\n",
      "HISPANIC        0.0277   6.99e+09   3.96e-12      1.000   -1.37e+10    1.37e+10\n",
      "HISPCAT0        0.0569        nan        nan        nan         nan         nan\n",
      "HISPCAT1       -0.0655        nan        nan        nan         nan         nan\n",
      "HISPCAT2       -0.0143        nan        nan        nan         nan         nan\n",
      "HISPCAT3        0.1172        nan        nan        nan         nan         nan\n",
      "HISPCAT4       -0.0106        nan        nan        nan         nan         nan\n",
      "HSNOI          -0.0294      0.274     -0.107      0.914      -0.566       0.508\n",
      "MARIND         -0.2619      0.040     -6.535      0.000      -0.340      -0.183\n",
      "MARSTA         -0.0359      0.010     -3.545      0.000      -0.056      -0.016\n",
      "MINRTY          0.1163      0.072      1.612      0.107      -0.025       0.258\n",
      "MR3YR           0.0608      0.994      0.061      0.951      -1.887       2.009\n",
      "MR5YR          -0.0591      0.963     -0.061      0.951      -1.947       1.829\n",
      "MRDG            0.0925        nan        nan        nan         nan         nan\n",
      "MRDGRUS         0.0936      7.638      0.012      0.990     -14.876      15.064\n",
      "MRMN           -0.0146        nan        nan        nan         nan         nan\n",
      "MRPBPR         -0.0581      1.268     -0.046      0.963      -2.544       2.428\n",
      "MRRGN          -0.0150      0.275     -0.055      0.956      -0.554       0.524\n",
      "N2DGRMED    -1.744e-05        nan        nan        nan         nan         nan\n",
      "N2MRMED     -6.486e-06        nan        nan        nan         nan         nan\n",
      "NACEDMG        -0.0105          0       -inf      0.000      -0.011      -0.011\n",
      "NATIVE         -0.0658      0.069     -0.953      0.341      -0.201       0.070\n",
      "NBAMEBG         0.0720      0.036      2.012      0.044       0.002       0.142\n",
      "NBAMEMG         0.0329        nan        nan        nan         nan         nan\n",
      "NBASEMG        -0.0333      0.013     -2.562      0.010      -0.059      -0.008\n",
      "ND2MEMG        -0.0212        nan        nan        nan         nan         nan\n",
      "ND2SEMG         0.0225      0.015      1.486      0.137      -0.007       0.052\n",
      "ND3MEMG        -0.0038      0.014     -0.282      0.778      -0.030       0.023\n",
      "ND3SEMG         0.0670      0.028      2.427      0.015       0.013       0.121\n",
      "ND4MEMG         0.0425        nan        nan        nan         nan         nan\n",
      "ND4SEMG        -0.0036          0       -inf      0.000      -0.004      -0.004\n",
      "ND5MEMG         0.0512        nan        nan        nan         nan         nan\n",
      "NDGMEBG         0.0390        nan        nan        nan         nan         nan\n",
      "NDGMEMG        -0.3711        nan        nan        nan         nan         nan\n",
      "NDGMENG         0.2110        nan        nan        nan         nan         nan\n",
      "NHDSEMG         0.0087        nan        nan        nan         nan         nan\n",
      "NMRMEBG         0.0650        nan        nan        nan         nan         nan\n",
      "NMRMEMG         0.1790        nan        nan        nan         nan         nan\n",
      "NMRMENG         0.0445        nan        nan        nan         nan         nan\n",
      "NMRSEMG         0.0088      0.068      0.129      0.897      -0.125       0.143\n",
      "PACIFIC        -0.0161      0.154     -0.104      0.917      -0.318       0.286\n",
      "PROMTGI         0.6291      0.021     30.503      0.000       0.589       0.669\n",
      "RACEM          -0.0960      0.047     -2.034      0.042      -0.189      -0.004\n",
      "RACETHM         0.0358      0.026      1.365      0.172      -0.016       0.087\n",
      "REFYR          -0.0081         -0        inf      0.000      -0.008      -0.008\n",
      "RESIDE          0.0946   1.14e+20    8.3e-22      1.000   -2.23e+20    2.23e+20\n",
      "RESPLCUS       -1.7987      0.441     -4.081      0.000      -2.662      -0.935\n",
      "SRVMODE        -0.0276      0.010     -2.783      0.005      -0.047      -0.008\n",
      "SURID           0.0946        nan        nan        nan         nan         nan\n",
      "SURV_SE         0.4453      0.039     11.375      0.000       0.369       0.522\n",
      "UGFAST         -0.0022      0.028     -0.077      0.939      -0.057       0.053\n",
      "UGFEM           0.0833      0.046      1.810      0.070      -0.007       0.174\n",
      "UGFERN         -0.0585      0.022     -2.678      0.007      -0.101      -0.016\n",
      "UGFGFT         -0.0658      0.020     -3.218      0.001      -0.106      -0.026\n",
      "UGFGRN          0.0112      0.020      0.551      0.582      -0.029       0.051\n",
      "UGFLN           0.0074      0.024      0.309      0.757      -0.039       0.054\n",
      "UGFNODG        -0.1042      0.072     -1.441      0.150      -0.246       0.038\n",
      "UGFOT          -0.0326      0.061     -0.533      0.594      -0.153       0.087\n",
      "UGFPLN         -0.0636      0.039     -1.634      0.102      -0.140       0.013\n",
      "UGFSAV         -0.0102      0.023     -0.451      0.652      -0.055       0.034\n",
      "UGFVET          0.0153      0.058      0.265      0.791      -0.098       0.129\n",
      "UGLOANR         0.0087      0.006      1.480      0.139      -0.003       0.020\n",
      "UGOWER         -0.0067      0.007     -0.962      0.336      -0.020       0.007\n",
      "VETSTAT        -0.0443      0.017     -2.604      0.009      -0.078      -0.011\n",
      "WHITE           0.1807      0.136      1.328      0.184      -0.086       0.447\n",
      "WRKGP           3.0280        nan        nan        nan         nan         nan\n",
      "BARGN_00       -0.1851        nan        nan        nan         nan         nan\n",
      "BARGN_10       -0.0460   1.06e+05  -4.34e-07      1.000   -2.08e+05    2.08e+05\n",
      "BARGN_20       -0.2917   1.06e+05  -2.75e-06      1.000   -2.08e+05    2.08e+05\n",
      "BARGN_30        0.0518   1.06e+05   4.88e-07      1.000   -2.08e+05    2.08e+05\n",
      "BARGN_31        0.0465   1.06e+05   4.39e-07      1.000   -2.08e+05    2.08e+05\n",
      "BARGN_33       -0.1642   1.06e+05  -1.55e-06      1.000   -2.08e+05    2.08e+05\n",
      "BARGN_37       -0.0174   1.06e+05  -1.64e-07      1.000   -2.08e+05    2.08e+05\n",
      "BARGN_40       -0.1661   1.06e+05  -1.57e-06      1.000   -2.08e+05    2.08e+05\n",
      "BARGN_50        0.5584   1.06e+05   5.27e-06      1.000   -2.08e+05    2.08e+05\n",
      "BARGN_55        0.2928   1.06e+05   2.76e-06      1.000   -2.08e+05    2.08e+05\n",
      "CTZUS_1         0.2179        nan        nan        nan         nan         nan\n",
      "CTZUS_2        -0.3549        nan        nan        nan         nan         nan\n",
      "CTZUS_3         0.2048        nan        nan        nan         nan         nan\n",
      "FACBEN_1       -0.1652   1.36e+04  -1.22e-05      1.000   -2.66e+04    2.66e+04\n",
      "FACBEN_2       -0.0140   1.36e+04  -1.03e-06      1.000   -2.66e+04    2.66e+04\n",
      "FACBEN_3        0.1043   1.36e+04    7.7e-06      1.000   -2.66e+04    2.66e+04\n",
      "FACBEN_4        0.1196   1.36e+04   8.82e-06      1.000   -2.66e+04    2.66e+04\n",
      "===============================================================================\n"
     ]
    }
   ],
   "source": [
    "import statsmodels.api as sm\n",
    "\n",
    "# Add a constant to the features (needed for statsmodels)\n",
    "X_with_const = sm.add_constant(X)\n",
    "\n",
    "# Create and fit the Probit model\n",
    "probit_model = sm.Probit(y, X_with_const)\n",
    "probit_results = probit_model.fit()\n",
    "\n",
    "# Print the summary to see the coefficients\n",
    "print(probit_results.summary())"
   ]
  },
  {
   "cell_type": "code",
   "execution_count": null,
   "metadata": {},
   "outputs": [],
   "source": [
    "df_final.to_csv(\"df_final.csv\")"
   ]
  },
  {
   "cell_type": "code",
   "execution_count": 123,
   "metadata": {},
   "outputs": [
    {
     "name": "stdout",
     "output_type": "stream",
     "text": [
      "Optimization terminated successfully.\n",
      "         Current function value: 0.128164\n",
      "         Iterations 16\n",
      "                           Logit Regression Results                           \n",
      "==============================================================================\n",
      "Dep. Variable:                 LFSTAT   No. Observations:               106279\n",
      "Model:                          Logit   Df Residuals:                   106157\n",
      "Method:                           MLE   Df Model:                          121\n",
      "Date:                Thu, 01 Feb 2024   Pseudo R-squ.:                  0.7113\n",
      "Time:                        17:59:52   Log-Likelihood:                -13621.\n",
      "converged:                       True   LL-Null:                       -47188.\n",
      "Covariance Type:            nonrobust   LLR p-value:                     0.000\n",
      "===============================================================================\n",
      "                  coef    std err          z      P>|z|      [0.025      0.975]\n",
      "-------------------------------------------------------------------------------\n",
      "ACSIN          -1.1264    157.495     -0.007      0.994    -309.812     307.559\n",
      "AGE            -0.0452        nan        nan        nan         nan         nan\n",
      "AGEGR           0.0021     27.717   7.56e-05      1.000     -54.323      54.327\n",
      "ASDGRI         -0.1837     23.514     -0.008      0.994     -46.270      45.903\n",
      "ASIAN          -0.0643        nan        nan        nan         nan         nan\n",
      "BADGRUS        -0.3611        nan        nan        nan         nan         nan\n",
      "BAIND           0.3996        nan        nan        nan         nan         nan\n",
      "BIRYR          -0.0013        nan        nan        nan         nan         nan\n",
      "BLACK           0.0161      0.209      0.077      0.938      -0.393       0.425\n",
      "BSDGN           0.0726      0.310      0.234      0.815      -0.535       0.680\n",
      "BTHUS          -1.3503        nan        nan        nan         nan         nan\n",
      "CHLVIN         -0.0188      0.168     -0.112      0.911      -0.348       0.311\n",
      "COMCOLI        -0.0033      0.134     -0.025      0.980      -0.265       0.259\n",
      "CTZDUAL        -0.0492        nan        nan        nan         nan         nan\n",
      "CTZN           -1.0047        nan        nan        nan         nan         nan\n",
      "CTZUSIN        -0.7957      5.098     -0.156      0.876     -10.788       9.197\n",
      "DGRDG          -0.0577        nan        nan        nan         nan         nan\n",
      "DIFCOGN        -0.1031      0.042     -2.429      0.015      -0.186      -0.020\n",
      "DIFHEAR         0.0039      0.028      0.139      0.890      -0.052       0.060\n",
      "DIFLIFT        -0.0366      0.036     -1.022      0.307      -0.107       0.034\n",
      "DIFNO          -0.0514        nan        nan        nan         nan         nan\n",
      "DIFSEE          0.1319      0.037      3.570      0.000       0.059       0.204\n",
      "DIFWALK        -0.2370      0.044     -5.334      0.000      -0.324      -0.150\n",
      "EDDAD          -0.0026      0.012     -0.222      0.824      -0.026       0.021\n",
      "EDMOM           0.0188      0.016      1.206      0.228      -0.012       0.049\n",
      "FNINUS         -0.0004    4.5e+08  -8.33e-13      1.000   -8.83e+08    8.83e+08\n",
      "GENDER_male     0.6014      0.036     16.896      0.000       0.532       0.671\n",
      "GOVSUP          1.1862      0.064     18.616      0.000       1.061       1.311\n",
      "GRFAST         -0.0786      0.063     -1.239      0.215      -0.203       0.046\n",
      "GRFEM          -0.0150      0.077     -0.194      0.846      -0.167       0.137\n",
      "GRFERN         -0.0557      0.057     -0.971      0.332      -0.168       0.057\n",
      "GRFGFT         -0.0535      0.057     -0.946      0.344      -0.164       0.057\n",
      "GRFGRN          0.1627      0.055      2.978      0.003       0.056       0.270\n",
      "GRFLN           0.0368      0.073      0.502      0.615      -0.107       0.180\n",
      "GRFNODG         0.4377      0.106      4.126      0.000       0.230       0.646\n",
      "GRFOT           0.2922      0.184      1.587      0.113      -0.069       0.653\n",
      "GRFPLN          0.2709      0.119      2.285      0.022       0.039       0.503\n",
      "GRFSAV          0.0535      0.058      0.926      0.354      -0.060       0.167\n",
      "GRFVET         -0.0375      0.158     -0.238      0.812      -0.346       0.271\n",
      "GRLOANR         0.0328      0.016      2.099      0.036       0.002       0.063\n",
      "GROWER          0.0222      0.016      1.428      0.153      -0.008       0.053\n",
      "HCAPIN         -0.1573      0.070     -2.243      0.025      -0.295      -0.020\n",
      "HDACY3         -0.0686      0.068     -1.012      0.311      -0.201       0.064\n",
      "HDAY5           0.0734      0.067      1.090      0.276      -0.059       0.205\n",
      "HDDGRUS         0.3757      0.778      0.483      0.629      -1.150       1.901\n",
      "HDMN            0.0291      0.046      0.638      0.524      -0.060       0.119\n",
      "HDPBPR          0.0850      0.305      0.278      0.781      -0.513       0.683\n",
      "HDRGN           0.0161      0.035      0.459      0.646      -0.053       0.085\n",
      "HISPANIC       -0.0116   1.42e+06  -8.22e-09      1.000   -2.78e+06    2.78e+06\n",
      "HISPCAT0        0.0116   4.16e+05   2.78e-08      1.000   -8.16e+05    8.16e+05\n",
      "HISPCAT1       -0.1214        nan        nan        nan         nan         nan\n",
      "HISPCAT2       -0.0283        nan        nan        nan         nan         nan\n",
      "HISPCAT3        0.1808        nan        nan        nan         nan         nan\n",
      "HISPCAT4       -0.0427        nan        nan        nan         nan         nan\n",
      "HSNOI          -0.0377      0.469     -0.081      0.936      -0.956       0.881\n",
      "MARIND         -0.5016      0.091     -5.539      0.000      -0.679      -0.324\n",
      "MARSTA         -0.0665      0.020     -3.262      0.001      -0.106      -0.027\n",
      "MINRTY          0.2317      0.128      1.806      0.071      -0.020       0.483\n",
      "MR3YR           0.1171      0.068      1.729      0.084      -0.016       0.250\n",
      "MR5YR          -0.1089      0.067     -1.618      0.106      -0.241       0.023\n",
      "MRDG            0.2214      0.170      1.299      0.194      -0.113       0.555\n",
      "MRDGRUS         0.2875      0.784      0.367      0.714      -1.249       1.824\n",
      "MRMN           -0.0302      0.046     -0.662      0.508      -0.120       0.059\n",
      "MRPBPR         -0.1483      0.305     -0.486      0.627      -0.746       0.450\n",
      "MRRGN          -0.0226      0.035     -0.637      0.524      -0.092       0.047\n",
      "N2DGRMED    -3.299e-05      0.000     -0.225      0.822      -0.000       0.000\n",
      "N2MRMED     -1.085e-05      0.000     -0.074      0.941      -0.000       0.000\n",
      "NACEDMG        -0.0256      0.029     -0.875      0.381      -0.083       0.032\n",
      "NATIVE         -0.1461      0.160     -0.916      0.360      -0.459       0.167\n",
      "NBAMEBG         0.1759      0.055      3.205      0.001       0.068       0.283\n",
      "NBAMEMG         0.0622      0.025      2.531      0.011       0.014       0.110\n",
      "NBASEMG        -0.0598      0.026     -2.298      0.022      -0.111      -0.009\n",
      "ND2MEMG        -0.0407      0.016     -2.585      0.010      -0.071      -0.010\n",
      "ND2SEMG         0.0404      0.029      1.413      0.158      -0.016       0.096\n",
      "ND3MEMG        -0.0118      0.023     -0.502      0.616      -0.058       0.034\n",
      "ND3SEMG         0.1256      0.042      2.990      0.003       0.043       0.208\n",
      "ND4MEMG         0.0778      0.051      1.537      0.124      -0.021       0.177\n",
      "ND4SEMG        -0.0244      0.110     -0.222      0.825      -0.241       0.192\n",
      "ND5MEMG         0.1037      0.124      0.835      0.404      -0.140       0.347\n",
      "NDGMEBG         0.0728      0.317      0.230      0.818      -0.548       0.694\n",
      "NDGMEMG        -0.8941      0.735     -1.216      0.224      -2.335       0.547\n",
      "NDGMENG         0.4198      1.482      0.283      0.777      -2.486       3.325\n",
      "NHDSEMG         0.0389      0.121      0.322      0.747      -0.198       0.276\n",
      "NMRMEBG         0.1376      0.317      0.434      0.664      -0.484       0.759\n",
      "NMRMEMG         0.5227      0.736      0.710      0.478      -0.920       1.966\n",
      "NMRMENG         0.0497      1.484      0.033      0.973      -2.858       2.958\n",
      "NMRSEMG        -0.0048      0.121     -0.040      0.968      -0.242       0.232\n",
      "PACIFIC        -0.0704      0.293     -0.241      0.810      -0.644       0.503\n",
      "PROMTGI         1.0630      0.044     24.260      0.000       0.977       1.149\n",
      "RACEM          -0.2031      0.091     -2.222      0.026      -0.382      -0.024\n",
      "RACETHM         0.0927      0.052      1.770      0.077      -0.010       0.195\n",
      "REFYR          -0.0099     71.131     -0.000      1.000    -139.425     139.405\n",
      "RESIDE         -0.0004   4.27e+16  -8.79e-21      1.000   -8.36e+16    8.36e+16\n",
      "RESPLCUS       -2.9708      0.791     -3.757      0.000      -4.521      -1.421\n",
      "SRVMODE        -0.0435      0.019     -2.299      0.021      -0.081      -0.006\n",
      "SURID          -0.0004        nan        nan        nan         nan         nan\n",
      "SURV_SE         0.9161      0.077     11.889      0.000       0.765       1.067\n",
      "UGFAST         -0.0167      0.054     -0.312      0.755      -0.122       0.089\n",
      "UGFEM           0.1482      0.089      1.658      0.097      -0.027       0.323\n",
      "UGFERN         -0.1339      0.042     -3.197      0.001      -0.216      -0.052\n",
      "UGFGFT         -0.1389      0.040     -3.494      0.000      -0.217      -0.061\n",
      "UGFGRN          0.0197      0.039      0.502      0.616      -0.057       0.096\n",
      "UGFLN           0.0043      0.046      0.094      0.925      -0.086       0.095\n",
      "UGFNODG        -0.2569      0.139     -1.848      0.065      -0.529       0.015\n",
      "UGFOT          -0.0697      0.122     -0.573      0.566      -0.308       0.169\n",
      "UGFPLN         -0.0992      0.075     -1.318      0.187      -0.247       0.048\n",
      "UGFSAV         -0.0199      0.044     -0.454      0.650      -0.106       0.066\n",
      "UGFVET          0.0494      0.113      0.437      0.662      -0.172       0.271\n",
      "UGLOANR         0.0092      0.011      0.840      0.401      -0.012       0.031\n",
      "UGOWER         -0.0057      0.013     -0.437      0.662      -0.031       0.020\n",
      "VETSTAT        -0.0799      0.034     -2.380      0.017      -0.146      -0.014\n",
      "WHITE           0.2603      0.260      1.002      0.316      -0.249       0.769\n",
      "WRKGP           5.6657      0.041    138.102      0.000       5.585       5.746\n",
      "BARGN_00       -0.3611        nan        nan        nan         nan         nan\n",
      "BARGN_10       -0.0622        nan        nan        nan         nan         nan\n",
      "BARGN_20       -0.5798        nan        nan        nan         nan         nan\n",
      "BARGN_30        0.0519        nan        nan        nan         nan         nan\n",
      "BARGN_31        0.1669        nan        nan        nan         nan         nan\n",
      "BARGN_33       -0.4108        nan        nan        nan         nan         nan\n",
      "BARGN_37        0.0546        nan        nan        nan         nan         nan\n",
      "BARGN_40       -0.3180        nan        nan        nan         nan         nan\n",
      "BARGN_50        1.0674        nan        nan        nan         nan         nan\n",
      "BARGN_55        0.3912        nan        nan        nan         nan         nan\n",
      "CTZUS_1         0.3800        nan        nan        nan         nan         nan\n",
      "CTZUS_2        -0.7417        nan        nan        nan         nan         nan\n",
      "CTZUS_3         0.3619        nan        nan        nan         nan         nan\n",
      "FACBEN_1       -0.2838   4912.665  -5.78e-05      1.000   -9628.931    9628.363\n",
      "FACBEN_2       -0.0860   4912.665  -1.75e-05      1.000   -9628.733    9628.561\n",
      "FACBEN_3        0.1392   4912.665   2.83e-05      1.000   -9628.508    9628.786\n",
      "FACBEN_4        0.2311   4912.665    4.7e-05      1.000   -9628.416    9628.878\n",
      "===============================================================================\n"
     ]
    }
   ],
   "source": [
    "# Create and fit the Logit model\n",
    "logit_model = sm.Logit(y, X_with_const)\n",
    "logit_results = logit_model.fit()\n",
    "\n",
    "# Print the summary to see the coefficients\n",
    "print(logit_results.summary())"
   ]
  }
 ],
 "metadata": {
  "kernelspec": {
   "display_name": "base",
   "language": "python",
   "name": "python3"
  },
  "language_info": {
   "codemirror_mode": {
    "name": "ipython",
    "version": 3
   },
   "file_extension": ".py",
   "mimetype": "text/x-python",
   "name": "python",
   "nbconvert_exporter": "python",
   "pygments_lexer": "ipython3",
   "version": "3.9.13"
  }
 },
 "nbformat": 4,
 "nbformat_minor": 2
}
